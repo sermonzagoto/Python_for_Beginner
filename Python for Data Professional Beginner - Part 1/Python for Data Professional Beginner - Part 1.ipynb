{
 "cells": [
  {
   "cell_type": "markdown",
   "metadata": {
    "colab_type": "text",
    "id": "N0_cP7SYTczU"
   },
   "source": [
    "### **Mari Mengenal Python**"
   ]
  },
  {
   "cell_type": "markdown",
   "metadata": {
    "colab_type": "text",
    "id": "HHabukq-T0W_"
   },
   "source": [
    "Program pertama: \"Hello World\""
   ]
  },
  {
   "cell_type": "code",
   "execution_count": null,
   "metadata": {
    "colab": {
     "base_uri": "https://localhost:8080/",
     "height": 34
    },
    "colab_type": "code",
    "executionInfo": {
     "elapsed": 883,
     "status": "ok",
     "timestamp": 1595149352799,
     "user": {
      "displayName": "Sermon Paskah Zagoto",
      "photoUrl": "https://lh3.googleusercontent.com/a-/AOh14GiVlpSEE7CTptyyLOF0HBAyiJig8SaCaXCH-pm1kw=s64",
      "userId": "07646999100105069157"
     },
     "user_tz": -420
    },
    "id": "4fkjTE7qTWyB",
    "outputId": "8a721e8e-dbf7-4497-b2fb-4ab132e98f11"
   },
   "outputs": [
    {
     "name": "stdout",
     "output_type": "stream",
     "text": [
      "Hello World!\n"
     ]
    }
   ],
   "source": [
    "print(\"Hello World!\")"
   ]
  },
  {
   "cell_type": "markdown",
   "metadata": {
    "colab_type": "text",
    "id": "6TU6j_QMT5-h"
   },
   "source": [
    "Program Pertamaku"
   ]
  },
  {
   "cell_type": "code",
   "execution_count": null,
   "metadata": {
    "colab": {
     "base_uri": "https://localhost:8080/",
     "height": 51
    },
    "colab_type": "code",
    "executionInfo": {
     "elapsed": 862,
     "status": "ok",
     "timestamp": 1595149368741,
     "user": {
      "displayName": "Sermon Paskah Zagoto",
      "photoUrl": "https://lh3.googleusercontent.com/a-/AOh14GiVlpSEE7CTptyyLOF0HBAyiJig8SaCaXCH-pm1kw=s64",
      "userId": "07646999100105069157"
     },
     "user_tz": -420
    },
    "id": "Qk8ewzeWTXUR",
    "outputId": "e941af7a-f090-4241-e06d-737410a19e10"
   },
   "outputs": [
    {
     "name": "stdout",
     "output_type": "stream",
     "text": [
      "Halo Dunia\n",
      "Riset Bahasa Python\n"
     ]
    }
   ],
   "source": [
    "print(\"Halo Dunia\")\n",
    "print(\"Riset Bahasa Python\")"
   ]
  },
  {
   "cell_type": "markdown",
   "metadata": {
    "colab_type": "text",
    "id": "pbS6ypD_T9vA"
   },
   "source": [
    "Struktur Program Python - Part 1"
   ]
  },
  {
   "cell_type": "code",
   "execution_count": null,
   "metadata": {
    "colab": {
     "base_uri": "https://localhost:8080/",
     "height": 85
    },
    "colab_type": "code",
    "executionInfo": {
     "elapsed": 818,
     "status": "ok",
     "timestamp": 1595149384179,
     "user": {
      "displayName": "Sermon Paskah Zagoto",
      "photoUrl": "https://lh3.googleusercontent.com/a-/AOh14GiVlpSEE7CTptyyLOF0HBAyiJig8SaCaXCH-pm1kw=s64",
      "userId": "07646999100105069157"
     },
     "user_tz": -420
    },
    "id": "g1t3YNRQTXac",
    "outputId": "106bbf67-9a3a-4f24-d3c5-ce1f2ddf126b"
   },
   "outputs": [
    {
     "name": "stdout",
     "output_type": "stream",
     "text": [
      "Belajar Python menyenangkan\n",
      "Halo Dunia\n",
      "Hello World!\n",
      "15\n"
     ]
    }
   ],
   "source": [
    "# Statement\n",
    "print(\"Belajar Python menyenangkan\") \n",
    "print(\"Halo Dunia\")\n",
    "print(\"Hello World!\")\n",
    "# Variables & Literals\n",
    "bilangan1 = 5\n",
    "bilangan2 = 10\n",
    "kalimat1 = \"Belajar Bahasa Python\"\n",
    "# Operators\n",
    "print(bilangan1 + bilangan2)"
   ]
  },
  {
   "cell_type": "markdown",
   "metadata": {
    "colab_type": "text",
    "id": "0Co_C4-XUBSm"
   },
   "source": [
    "Tugas Praktek"
   ]
  },
  {
   "cell_type": "code",
   "execution_count": null,
   "metadata": {
    "colab": {
     "base_uri": "https://localhost:8080/",
     "height": 34
    },
    "colab_type": "code",
    "executionInfo": {
     "elapsed": 869,
     "status": "ok",
     "timestamp": 1595149397923,
     "user": {
      "displayName": "Sermon Paskah Zagoto",
      "photoUrl": "https://lh3.googleusercontent.com/a-/AOh14GiVlpSEE7CTptyyLOF0HBAyiJig8SaCaXCH-pm1kw=s64",
      "userId": "07646999100105069157"
     },
     "user_tz": -420
    },
    "id": "6pqcCJX9TXc7",
    "outputId": "65f986d7-f97f-4338-84dc-3cf1a9d78d86"
   },
   "outputs": [
    {
     "name": "stdout",
     "output_type": "stream",
     "text": [
      "10\n"
     ]
    }
   ],
   "source": [
    "bilangan1 = 20\n",
    "bilangan2 = 10\n",
    "print(bilangan1 - bilangan2)"
   ]
  },
  {
   "cell_type": "markdown",
   "metadata": {
    "colab_type": "text",
    "id": "zlITf6UVUGBK"
   },
   "source": [
    "Tugas Praktek"
   ]
  },
  {
   "cell_type": "code",
   "execution_count": null,
   "metadata": {
    "colab": {
     "base_uri": "https://localhost:8080/",
     "height": 34
    },
    "colab_type": "code",
    "executionInfo": {
     "elapsed": 827,
     "status": "ok",
     "timestamp": 1595149419728,
     "user": {
      "displayName": "Sermon Paskah Zagoto",
      "photoUrl": "https://lh3.googleusercontent.com/a-/AOh14GiVlpSEE7CTptyyLOF0HBAyiJig8SaCaXCH-pm1kw=s64",
      "userId": "07646999100105069157"
     },
     "user_tz": -420
    },
    "id": "eorkr77HTXfX",
    "outputId": "884e0d71-d528-49dd-8174-c31495313369"
   },
   "outputs": [
    {
     "name": "stdout",
     "output_type": "stream",
     "text": [
      "19800.0\n"
     ]
    }
   ],
   "source": [
    "harga_asli = 20000\n",
    "potongan = 2000\n",
    "harga_setelah_potongan = harga_asli - potongan\n",
    "harga_final = harga_setelah_potongan * 1.1\n",
    "print(harga_final)"
   ]
  },
  {
   "cell_type": "markdown",
   "metadata": {
    "colab_type": "text",
    "id": "K7bINgK7UOcH"
   },
   "source": [
    "### **Python Variables & Data Types**"
   ]
  },
  {
   "cell_type": "markdown",
   "metadata": {
    "colab_type": "text",
    "id": "XeiPcJEoUVYp"
   },
   "source": [
    "Sequence Type – Part 1"
   ]
  },
  {
   "cell_type": "code",
   "execution_count": null,
   "metadata": {
    "colab": {
     "base_uri": "https://localhost:8080/",
     "height": 68
    },
    "colab_type": "code",
    "executionInfo": {
     "elapsed": 978,
     "status": "ok",
     "timestamp": 1595149481158,
     "user": {
      "displayName": "Sermon Paskah Zagoto",
      "photoUrl": "https://lh3.googleusercontent.com/a-/AOh14GiVlpSEE7CTptyyLOF0HBAyiJig8SaCaXCH-pm1kw=s64",
      "userId": "07646999100105069157"
     },
     "user_tz": -420
    },
    "id": "q-D1ATHlTXhl",
    "outputId": "9486dcb1-e272-42ba-8825-1f6a0ddf5849"
   },
   "outputs": [
    {
     "name": "stdout",
     "output_type": "stream",
     "text": [
      "1\n",
      "4.0\n",
      "empat\n"
     ]
    }
   ],
   "source": [
    "contoh_list = [1,'dua',3,4.0,5]\n",
    "print(contoh_list[0])\n",
    "print(contoh_list[3])\n",
    "contoh_list = [1,'dua',3,4.0,5]\n",
    "contoh_list[3] = 'empat'\n",
    "print(contoh_list[3])"
   ]
  },
  {
   "cell_type": "markdown",
   "metadata": {
    "colab_type": "text",
    "id": "MYgRlHSYUaS3"
   },
   "source": [
    "Sequence Type – Part 2"
   ]
  },
  {
   "cell_type": "code",
   "execution_count": null,
   "metadata": {
    "colab": {
     "base_uri": "https://localhost:8080/",
     "height": 214
    },
    "colab_type": "code",
    "executionInfo": {
     "elapsed": 820,
     "status": "error",
     "timestamp": 1595149501310,
     "user": {
      "displayName": "Sermon Paskah Zagoto",
      "photoUrl": "https://lh3.googleusercontent.com/a-/AOh14GiVlpSEE7CTptyyLOF0HBAyiJig8SaCaXCH-pm1kw=s64",
      "userId": "07646999100105069157"
     },
     "user_tz": -420
    },
    "id": "z_5rs1NlTXjx",
    "outputId": "4ac46152-2fd3-4b29-a1ec-bb24b348b4f6"
   },
   "outputs": [
    {
     "name": "stdout",
     "output_type": "stream",
     "text": [
      "Januari\n"
     ]
    },
    {
     "ename": "TypeError",
     "evalue": "ignored",
     "output_type": "error",
     "traceback": [
      "\u001b[0;31m---------------------------------------------------------------------------\u001b[0m",
      "\u001b[0;31mTypeError\u001b[0m                                 Traceback (most recent call last)",
      "\u001b[0;32m<ipython-input-7-bf5fba48fc27>\u001b[0m in \u001b[0;36m<module>\u001b[0;34m()\u001b[0m\n\u001b[1;32m      2\u001b[0m \u001b[0mprint\u001b[0m\u001b[0;34m(\u001b[0m\u001b[0mcontoh_tuple\u001b[0m\u001b[0;34m[\u001b[0m\u001b[0;36m0\u001b[0m\u001b[0;34m]\u001b[0m\u001b[0;34m)\u001b[0m\u001b[0;34m\u001b[0m\u001b[0;34m\u001b[0m\u001b[0m\n\u001b[1;32m      3\u001b[0m \u001b[0mcontoh_tuple\u001b[0m \u001b[0;34m=\u001b[0m \u001b[0;34m(\u001b[0m\u001b[0;34m'Januari'\u001b[0m\u001b[0;34m,\u001b[0m\u001b[0;34m'Februari'\u001b[0m\u001b[0;34m,\u001b[0m\u001b[0;34m'Maret'\u001b[0m\u001b[0;34m,\u001b[0m\u001b[0;34m'April'\u001b[0m\u001b[0;34m)\u001b[0m\u001b[0;34m\u001b[0m\u001b[0;34m\u001b[0m\u001b[0m\n\u001b[0;32m----> 4\u001b[0;31m \u001b[0mcontoh_tuple\u001b[0m\u001b[0;34m[\u001b[0m\u001b[0;36m0\u001b[0m\u001b[0;34m]\u001b[0m \u001b[0;34m=\u001b[0m \u001b[0;34m\"Desember\"\u001b[0m\u001b[0;34m\u001b[0m\u001b[0;34m\u001b[0m\u001b[0m\n\u001b[0m",
      "\u001b[0;31mTypeError\u001b[0m: 'tuple' object does not support item assignment"
     ]
    }
   ],
   "source": [
    "contoh_tuple = ('Januari','Februari','Maret','April')\n",
    "print(contoh_tuple[0])\n",
    "contoh_tuple = ('Januari','Februari','Maret','April')\n",
    "contoh_tuple[0] = \"Desember\""
   ]
  },
  {
   "cell_type": "markdown",
   "metadata": {
    "colab_type": "text",
    "id": "LEZpgwnpUeK2"
   },
   "source": [
    "Set Type"
   ]
  },
  {
   "cell_type": "code",
   "execution_count": null,
   "metadata": {
    "colab": {
     "base_uri": "https://localhost:8080/",
     "height": 68
    },
    "colab_type": "code",
    "executionInfo": {
     "elapsed": 839,
     "status": "ok",
     "timestamp": 1595149521911,
     "user": {
      "displayName": "Sermon Paskah Zagoto",
      "photoUrl": "https://lh3.googleusercontent.com/a-/AOh14GiVlpSEE7CTptyyLOF0HBAyiJig8SaCaXCH-pm1kw=s64",
      "userId": "07646999100105069157"
     },
     "user_tz": -420
    },
    "id": "3biG0V7jTXl_",
    "outputId": "cb82f4ad-a2c2-492a-b299-5c0e5b172882"
   },
   "outputs": [
    {
     "name": "stdout",
     "output_type": "stream",
     "text": [
      "['Dewi', 'Budi', 'Cici', 'Linda', 'Cici']\n",
      "{'Budi', 'Linda', 'Cici', 'Dewi'}\n",
      "{'Budi', 'Linda', 'Cici', 'Dewi'}\n"
     ]
    }
   ],
   "source": [
    "contoh_list = ['Dewi','Budi','Cici','Linda','Cici'] \n",
    "print(contoh_list)\n",
    "contoh_set = {'Dewi','Budi','Cici','Linda','Cici'}\n",
    "print(contoh_set)\n",
    "contoh_frozen_set = ({'Dewi','Budi','Cici','Linda','Cici'})\n",
    "print(contoh_frozen_set)"
   ]
  },
  {
   "cell_type": "markdown",
   "metadata": {
    "colab_type": "text",
    "id": "J4F_bBOzUjb4"
   },
   "source": [
    "Mapping Type"
   ]
  },
  {
   "cell_type": "code",
   "execution_count": null,
   "metadata": {
    "colab": {
     "base_uri": "https://localhost:8080/",
     "height": 51
    },
    "colab_type": "code",
    "executionInfo": {
     "elapsed": 850,
     "status": "ok",
     "timestamp": 1595149537605,
     "user": {
      "displayName": "Sermon Paskah Zagoto",
      "photoUrl": "https://lh3.googleusercontent.com/a-/AOh14GiVlpSEE7CTptyyLOF0HBAyiJig8SaCaXCH-pm1kw=s64",
      "userId": "07646999100105069157"
     },
     "user_tz": -420
    },
    "id": "3_xXCKDQTXoA",
    "outputId": "5660e162-edce-4dfb-a049-53b4c74d6a7a"
   },
   "outputs": [
    {
     "name": "stdout",
     "output_type": "stream",
     "text": [
      "John Doe\n",
      "Programmer\n"
     ]
    }
   ],
   "source": [
    "person = {'nama': 'John Doe', 'pekerjaan': 'Programmer'}\n",
    "print(person['nama'])\n",
    "print(person['pekerjaan'])"
   ]
  },
  {
   "cell_type": "markdown",
   "metadata": {
    "colab_type": "text",
    "id": "Z-hyisGRUnNx"
   },
   "source": [
    "Tugas Praktek"
   ]
  },
  {
   "cell_type": "code",
   "execution_count": null,
   "metadata": {
    "colab": {},
    "colab_type": "code",
    "id": "PhA6BOR0UoTQ"
   },
   "outputs": [],
   "source": [
    "sepatu = {\"nama\": \"Sepatu Niko\", \"harga\": 150000, \"diskon\": 30000}\n",
    "baju = {\"nama\": \"Baju Unikloh\", \"harga\": 80000, \"diskon\": 8000}\n",
    "celana = {\"nama\": \"Celana Lepis\", \"harga\": 200000, \"diskon\": 60000}"
   ]
  },
  {
   "cell_type": "markdown",
   "metadata": {
    "colab_type": "text",
    "id": "uolH3ZJzUqPV"
   },
   "source": [
    "Tugas Praktek"
   ]
  },
  {
   "cell_type": "code",
   "execution_count": null,
   "metadata": {
    "colab": {},
    "colab_type": "code",
    "id": "vQdDmO0nUsYV"
   },
   "outputs": [],
   "source": [
    "sepatu = {\"nama\": \"Sepatu Niko\", \"harga\": 150000, \"diskon\": 30000} \n",
    "baju = {\"nama\": \"Baju Unikloh\", \"harga\": 80000, \"diskon\": 8000} \n",
    "celana = {\"nama\": \"Celana Lepis\", \"harga\": 200000, \"diskon\": 60000} \n",
    "daftar_belanja = [sepatu, baju, celana]"
   ]
  },
  {
   "cell_type": "markdown",
   "metadata": {
    "colab_type": "text",
    "id": "tEPGL0DCUwXf"
   },
   "source": [
    "Tugas Praktek"
   ]
  },
  {
   "cell_type": "code",
   "execution_count": null,
   "metadata": {
    "colab": {
     "base_uri": "https://localhost:8080/",
     "height": 34
    },
    "colab_type": "code",
    "executionInfo": {
     "elapsed": 854,
     "status": "ok",
     "timestamp": 1595149589689,
     "user": {
      "displayName": "Sermon Paskah Zagoto",
      "photoUrl": "https://lh3.googleusercontent.com/a-/AOh14GiVlpSEE7CTptyyLOF0HBAyiJig8SaCaXCH-pm1kw=s64",
      "userId": "07646999100105069157"
     },
     "user_tz": -420
    },
    "id": "9CKAaHUkUwp9",
    "outputId": "0ff786b9-9ae1-46b9-aa57-b723cdf1611e"
   },
   "outputs": [
    {
     "name": "stdout",
     "output_type": "stream",
     "text": [
      "365200.0\n"
     ]
    }
   ],
   "source": [
    "# Data yang dinyatakan ke dalam dictionary\n",
    "sepatu = {\"nama\": \"Sepatu Niko\", \"harga\": 150000, \"diskon\": 30000} \n",
    "baju = {\"nama\": \"Baju Unikloh\", \"harga\": 80000, \"diskon\": 8000} \n",
    "celana = {\"nama\": \"Celana Lepis\", \"harga\": 200000, \"diskon\": 60000}\n",
    "# Hitunglah harga masing-masing data setelah dikurangi diskon\n",
    "harga_sepatu = sepatu[\"harga\"] - sepatu[\"diskon\"] \n",
    "harga_baju = baju[\"harga\"] - baju[\"diskon\"]\n",
    "harga_celana = celana[\"harga\"] - celana[\"diskon\"]\n",
    "# Hitung harga total\n",
    "total_harga = harga_sepatu + harga_baju + harga_celana\n",
    "# Hitung harga kena pajak\n",
    "total_pajak = total_harga * 0.1\n",
    "# Cetak total_harga + total_pajak\n",
    "print(total_harga + total_pajak)"
   ]
  },
  {
   "cell_type": "markdown",
   "metadata": {
    "colab_type": "text",
    "id": "LI0KXAOiVXFM"
   },
   "source": [
    "### **Python Operators**"
   ]
  },
  {
   "cell_type": "markdown",
   "metadata": {
    "colab_type": "text",
    "id": "vM-9nVi7Vg_B"
   },
   "source": [
    "Nilai Prioritas Operator dalam Python – Part 1"
   ]
  },
  {
   "cell_type": "code",
   "execution_count": null,
   "metadata": {
    "colab": {
     "base_uri": "https://localhost:8080/",
     "height": 51
    },
    "colab_type": "code",
    "executionInfo": {
     "elapsed": 881,
     "status": "ok",
     "timestamp": 1595149789944,
     "user": {
      "displayName": "Sermon Paskah Zagoto",
      "photoUrl": "https://lh3.googleusercontent.com/a-/AOh14GiVlpSEE7CTptyyLOF0HBAyiJig8SaCaXCH-pm1kw=s64",
      "userId": "07646999100105069157"
     },
     "user_tz": -420
    },
    "id": "IC1CXttGVhQ1",
    "outputId": "1bbae88b-627d-4239-f594-69a1117a8617"
   },
   "outputs": [
    {
     "name": "stdout",
     "output_type": "stream",
     "text": [
      "Kode awal - harga_bayar= 115500.0\n",
      "Penyederhanaan kode - harga_bayar= 115500.0\n"
     ]
    }
   ],
   "source": [
    "# Kode awal\n",
    "total_harga = 150000\n",
    "potongan_harga = 0.3\n",
    "pajak = 0.1 # pajak dalam persen ~ 10%\n",
    "harga_bayar = 1 - 0.3 # baris pertama\n",
    "harga_bayar *= total_harga # baris kedua\n",
    "pajak_bayar = pajak * harga_bayar # baris ketiga\n",
    "harga_bayar += pajak_bayar # baris ke-4\n",
    "print(\"Kode awal - harga_bayar=\", harga_bayar)\n",
    "# Penyederhanaan baris kode dengan menerapkan prioritas operator\n",
    "total_harga = 150000\n",
    "potongan_harga = 0.3\n",
    "pajak = 0.1 # pajak dalam persen ~ 10%\n",
    "harga_bayar = (1 - 0.3) * total_harga #baris pertama \n",
    "harga_bayar += harga_bayar * pajak # baris kedua\n",
    "print(\"Penyederhanaan kode - harga_bayar=\", harga_bayar)"
   ]
  },
  {
   "cell_type": "markdown",
   "metadata": {
    "colab_type": "text",
    "id": "mBJvMChNVqSI"
   },
   "source": [
    "Tugas Praktek"
   ]
  },
  {
   "cell_type": "code",
   "execution_count": null,
   "metadata": {
    "colab": {
     "base_uri": "https://localhost:8080/",
     "height": 34
    },
    "colab_type": "code",
    "executionInfo": {
     "elapsed": 850,
     "status": "ok",
     "timestamp": 1595149827891,
     "user": {
      "displayName": "Sermon Paskah Zagoto",
      "photoUrl": "https://lh3.googleusercontent.com/a-/AOh14GiVlpSEE7CTptyyLOF0HBAyiJig8SaCaXCH-pm1kw=s64",
      "userId": "07646999100105069157"
     },
     "user_tz": -420
    },
    "id": "64b8I9cMVqp2",
    "outputId": "82f6a770-cbb4-4ad8-ac0c-ef581c12ef42"
   },
   "outputs": [
    {
     "name": "stdout",
     "output_type": "stream",
     "text": [
      "365200.00000000006\n"
     ]
    }
   ],
   "source": [
    "sepatu = { \"nama\" : \"Sepatu Niko\", \"harga\": 150000, \"diskon\": 30000 }\n",
    "baju = { \"nama\" : \"Baju Unikloh\", \"harga\": 80000, \"diskon\": 8000 }\n",
    "celana = { \"nama\" : \"Celana Lepis\", \"harga\": 200000, \"diskon\": 60000 }\n",
    "harga_sepatu = sepatu[\"harga\"] - sepatu[\"diskon\"]\n",
    "harga_baju = baju[\"harga\"] - baju[\"diskon\"]\n",
    "harga_celana = celana[\"harga\"] - celana[\"diskon\"]\n",
    "total_harga = (harga_sepatu + harga_baju + harga_celana) * 1.1 \n",
    "print(total_harga)"
   ]
  },
  {
   "cell_type": "markdown",
   "metadata": {
    "colab_type": "text",
    "id": "yxRaoEJZVwE4"
   },
   "source": [
    "### **Pythons Conditioning & Looping**"
   ]
  },
  {
   "cell_type": "markdown",
   "metadata": {
    "colab_type": "text",
    "id": "dOLJt0_fVzZn"
   },
   "source": [
    "Python Conditioning for Decision – Part 2"
   ]
  },
  {
   "cell_type": "code",
   "execution_count": null,
   "metadata": {
    "colab": {
     "base_uri": "https://localhost:8080/",
     "height": 51
    },
    "colab_type": "code",
    "executionInfo": {
     "elapsed": 812,
     "status": "ok",
     "timestamp": 1595149865508,
     "user": {
      "displayName": "Sermon Paskah Zagoto",
      "photoUrl": "https://lh3.googleusercontent.com/a-/AOh14GiVlpSEE7CTptyyLOF0HBAyiJig8SaCaXCH-pm1kw=s64",
      "userId": "07646999100105069157"
     },
     "user_tz": -420
    },
    "id": "FkQyWh3LVz3e",
    "outputId": "909f91c6-17cb-4c03-f9c4-892209024dbe"
   },
   "outputs": [
    {
     "name": "stdout",
     "output_type": "stream",
     "text": [
      "x habis dibagi dua\n",
      "x tidak habis dibagi dua, tiga ataupun lima\n"
     ]
    }
   ],
   "source": [
    "# Statement if\n",
    "x = 4\n",
    "if x % 2 == 0: # jika sisa bagi x dengan 2 sama dengan 0\n",
    "    print(\"x habis dibagi dua\") # statemen aksi lebih menjorok ke dalam\n",
    "# Statement if ... elif ... else\n",
    "x = 7\n",
    "if x % 2 == 0: # jika sisa bagi x dengan 2 sama dengan 0\n",
    "    print(\"x habis dibagi dua\")\n",
    "elif x % 3 == 0: # jika sisa bagi x dengan 3 sama dengan 0\n",
    "    print(\"x habis dibagi tiga\")\n",
    "elif x % 5 == 0: # jika sisa bagi x dengan 5 sama dengan 0\n",
    "    print(\"x habis dibagi lima\")\n",
    "else:\n",
    "    print(\"x tidak habis dibagi dua, tiga ataupun lima\")"
   ]
  },
  {
   "cell_type": "markdown",
   "metadata": {
    "colab_type": "text",
    "id": "2s2NDaPeV3_V"
   },
   "source": [
    "Python Conditioning for Decision – Part 3"
   ]
  },
  {
   "cell_type": "code",
   "execution_count": null,
   "metadata": {
    "colab": {
     "base_uri": "https://localhost:8080/",
     "height": 34
    },
    "colab_type": "code",
    "executionInfo": {
     "elapsed": 875,
     "status": "ok",
     "timestamp": 1595149884205,
     "user": {
      "displayName": "Sermon Paskah Zagoto",
      "photoUrl": "https://lh3.googleusercontent.com/a-/AOh14GiVlpSEE7CTptyyLOF0HBAyiJig8SaCaXCH-pm1kw=s64",
      "userId": "07646999100105069157"
     },
     "user_tz": -420
    },
    "id": "hxBHcLYxV4RN",
    "outputId": "c91f7494-b2cf-400f-f384-040cba4c1fa7"
   },
   "outputs": [
    {
     "name": "stdout",
     "output_type": "stream",
     "text": [
      "Selamat siang!\n"
     ]
    }
   ],
   "source": [
    "jam = 13\n",
    "if jam >= 5 and jam < 12: # selama jam di antara 5 s.d. 12\n",
    "    print(\"Selamat pagi!\")\n",
    "elif jam >= 12 and jam < 17: # selama jam di antara 12 s.d. 17\n",
    "    print(\"Selamat siang!\")\n",
    "elif jam >= 17 and jam < 19: # selama jam di antara 17 s.d. 19\n",
    "    print(\"Selamat sore!\")\n",
    "else: # selain kondisi di atas\n",
    "    print(\"Selamat malam!\")"
   ]
  },
  {
   "cell_type": "markdown",
   "metadata": {
    "colab_type": "text",
    "id": "zTV5kfU7V7sD"
   },
   "source": [
    "Tugas Praktek"
   ]
  },
  {
   "cell_type": "code",
   "execution_count": null,
   "metadata": {
    "colab": {
     "base_uri": "https://localhost:8080/",
     "height": 85
    },
    "colab_type": "code",
    "executionInfo": {
     "elapsed": 860,
     "status": "ok",
     "timestamp": 1595149899038,
     "user": {
      "displayName": "Sermon Paskah Zagoto",
      "photoUrl": "https://lh3.googleusercontent.com/a-/AOh14GiVlpSEE7CTptyyLOF0HBAyiJig8SaCaXCH-pm1kw=s64",
      "userId": "07646999100105069157"
     },
     "user_tz": -420
    },
    "id": "Mq4RlofRV8Fs",
    "outputId": "14c0eb92-b549-4011-f4cd-d613655af08d"
   },
   "outputs": [
    {
     "name": "stdout",
     "output_type": "stream",
     "text": [
      "Tagihan kepada:\n",
      "Mr. Yoyo\n",
      "Selamat pagi, anda harus membayar tagihan sebesar:\n",
      "85000000\n"
     ]
    }
   ],
   "source": [
    "tagihan_ke = 'Mr. Yoyo'\n",
    "warehousing = { 'harga_harian': 1000000, 'total_hari':15 } \n",
    "cleansing = { 'harga_harian': 1500000, 'total_hari':10 } \n",
    "integration = { 'harga_harian':2000000, 'total_hari':15 } \n",
    "transform = { 'harga_harian':2500000, 'total_hari':10 }\n",
    "sub_warehousing = warehousing['harga_harian'] * warehousing['total_hari']\n",
    "sub_cleansing = cleansing['harga_harian'] * cleansing['total_hari']\n",
    "sub_integration = integration['harga_harian'] * integration['total_hari']\n",
    "sub_transform = transform['harga_harian'] * transform['total_hari']\n",
    "total_harga = sub_warehousing + sub_cleansing + sub_integration + sub_transform\n",
    "print(\"Tagihan kepada:\") \n",
    "print(tagihan_ke)\n",
    "print(\"Selamat pagi, anda harus membayar tagihan sebesar:\") \n",
    "print(total_harga)"
   ]
  },
  {
   "cell_type": "markdown",
   "metadata": {
    "colab_type": "text",
    "id": "ML87mFnXV_xK"
   },
   "source": [
    "Tugas Praktek"
   ]
  },
  {
   "cell_type": "code",
   "execution_count": null,
   "metadata": {
    "colab": {
     "base_uri": "https://localhost:8080/",
     "height": 85
    },
    "colab_type": "code",
    "executionInfo": {
     "elapsed": 822,
     "status": "ok",
     "timestamp": 1595149918164,
     "user": {
      "displayName": "Sermon Paskah Zagoto",
      "photoUrl": "https://lh3.googleusercontent.com/a-/AOh14GiVlpSEE7CTptyyLOF0HBAyiJig8SaCaXCH-pm1kw=s64",
      "userId": "07646999100105069157"
     },
     "user_tz": -420
    },
    "id": "TZv51ZSeV_85",
    "outputId": "d8143e11-93de-4981-9a8a-1de08e566e34"
   },
   "outputs": [
    {
     "name": "stdout",
     "output_type": "stream",
     "text": [
      "Tagihan kepada:\n",
      "Mr. Yoyo\n",
      "Selamat siang, anda harus membayar tagihan sebesar:\n",
      "85000000\n"
     ]
    }
   ],
   "source": [
    "jam = 17\n",
    "tagihan_ke = 'Mr. Yoyo'\n",
    "warehousing = { 'harga_harian': 1000000, 'total_hari':15 } \n",
    "cleansing = { 'harga_harian': 1500000, 'total_hari':10 } \n",
    "integration = { 'harga_harian':2000000, 'total_hari':15 } \n",
    "transform = { 'harga_harian':2500000, 'total_hari':10 }\n",
    "sub_warehousing = warehousing['harga_harian']*warehousing['total_hari'] \n",
    "sub_cleansing = cleansing['harga_harian']*cleansing['total_hari'] \n",
    "sub_integration = integration['harga_harian']*integration['total_hari'] \n",
    "sub_transform = transform['harga_harian']*transform['total_hari']\n",
    "total_harga = sub_warehousing+sub_cleansing+sub_integration+sub_transform\n",
    "print(\"Tagihan kepada:\")\n",
    "print(tagihan_ke)\n",
    "if jam > 19:\n",
    "    print(\"Selamat malam, anda harus membayar tagihan sebesar:\")\n",
    "elif jam > 17:\n",
    "    print(\"Selamat sore, anda harus membayar tagihan sebesar:\") \n",
    "elif jam > 12:\n",
    "    print(\"Selamat siang, anda harus membayar tagihan sebesar:\")\n",
    "else:\n",
    "    print(\"Selamat pagi, anda harus membayar tagihan sebesar:\") \n",
    "print(total_harga)"
   ]
  },
  {
   "cell_type": "markdown",
   "metadata": {
    "colab_type": "text",
    "id": "f63H9UYfWGMP"
   },
   "source": [
    "Python while loops – Part 1"
   ]
  },
  {
   "cell_type": "code",
   "execution_count": null,
   "metadata": {
    "colab": {
     "base_uri": "https://localhost:8080/",
     "height": 51
    },
    "colab_type": "code",
    "executionInfo": {
     "elapsed": 865,
     "status": "ok",
     "timestamp": 1595149941603,
     "user": {
      "displayName": "Sermon Paskah Zagoto",
      "photoUrl": "https://lh3.googleusercontent.com/a-/AOh14GiVlpSEE7CTptyyLOF0HBAyiJig8SaCaXCH-pm1kw=s64",
      "userId": "07646999100105069157"
     },
     "user_tz": -420
    },
    "id": "qGfnUPkFWGYx",
    "outputId": "28fd49ce-3d1a-43f1-ecc4-c59d49c0a1be"
   },
   "outputs": [
    {
     "name": "stdout",
     "output_type": "stream",
     "text": [
      "750000\n",
      "750000\n"
     ]
    }
   ],
   "source": [
    "# Tagihan\n",
    "tagihan = [50000, 75000, 125000, 300000, 200000]\n",
    "# Tanpa menggunakan while loop\n",
    "total_tagihan = tagihan[0] + tagihan[1] + tagihan[2] + tagihan[3] + tagihan[4]\n",
    "print(total_tagihan)\n",
    "# Dengan menggunakan while loop\n",
    "i = 0 # sebuah variabel untuk mengakses setiap elemen tagihan satu per satu\n",
    "jumlah_tagihan = len(tagihan) # panjang (jumlah elemen dalam) list tagihan\n",
    "total_tagihan = 0 # mula-mula, set total_tagihan ke 0\n",
    "while i < jumlah_tagihan: # selama nilai i kurang dari jumlah_tagihan\n",
    "    total_tagihan += tagihan[i] # tambahkan tagihan[i] ke total_tagihan\n",
    "    i += 1 # tambahkan nilai i dengan 1 untuk memproses tagihan selanjutnya.\n",
    "print(total_tagihan)"
   ]
  },
  {
   "cell_type": "markdown",
   "metadata": {
    "colab_type": "text",
    "id": "OyB21mI6WKHP"
   },
   "source": [
    "Python while loops – Part 2"
   ]
  },
  {
   "cell_type": "code",
   "execution_count": null,
   "metadata": {
    "colab": {
     "base_uri": "https://localhost:8080/",
     "height": 51
    },
    "colab_type": "code",
    "executionInfo": {
     "elapsed": 878,
     "status": "ok",
     "timestamp": 1595149958137,
     "user": {
      "displayName": "Sermon Paskah Zagoto",
      "photoUrl": "https://lh3.googleusercontent.com/a-/AOh14GiVlpSEE7CTptyyLOF0HBAyiJig8SaCaXCH-pm1kw=s64",
      "userId": "07646999100105069157"
     },
     "user_tz": -420
    },
    "id": "1KDF4MLIWKfj",
    "outputId": "e51ec065-a205-4d83-d7a5-e35ba71a166c"
   },
   "outputs": [
    {
     "name": "stdout",
     "output_type": "stream",
     "text": [
      "terdapat angka minus dalam tagihan, perhitungan dihentikan!\n",
      "-1\n"
     ]
    }
   ],
   "source": [
    "tagihan = [50000, 75000, -150000, 125000, 300000, -50000, 200000]\n",
    "i = 0\n",
    "jumlah_tagihan = len(tagihan)\n",
    "total_tagihan = 0\n",
    "while i < jumlah_tagihan:\n",
    "    # jika terdapat tagihan ke-i yang bernilai minus (di bawah nol),\n",
    "    # pengulangan akan dihentikan\n",
    "    if tagihan[i] < 0:\n",
    "        total_tagihan = -1\n",
    "        print(\"terdapat angka minus dalam tagihan, perhitungan dihentikan!\")\n",
    "        break\n",
    "    total_tagihan += tagihan[i]\n",
    "    i += 1\n",
    "print(total_tagihan)"
   ]
  },
  {
   "cell_type": "markdown",
   "metadata": {
    "colab_type": "text",
    "id": "rRpUrjxcWOEx"
   },
   "source": [
    "Python while loops – Part 3"
   ]
  },
  {
   "cell_type": "code",
   "execution_count": null,
   "metadata": {
    "colab": {
     "base_uri": "https://localhost:8080/",
     "height": 34
    },
    "colab_type": "code",
    "executionInfo": {
     "elapsed": 821,
     "status": "ok",
     "timestamp": 1595149974506,
     "user": {
      "displayName": "Sermon Paskah Zagoto",
      "photoUrl": "https://lh3.googleusercontent.com/a-/AOh14GiVlpSEE7CTptyyLOF0HBAyiJig8SaCaXCH-pm1kw=s64",
      "userId": "07646999100105069157"
     },
     "user_tz": -420
    },
    "id": "l-Yfl-85WOSY",
    "outputId": "4465d540-2e2b-4c22-a00d-a940bea82aeb"
   },
   "outputs": [
    {
     "name": "stdout",
     "output_type": "stream",
     "text": [
      "750000\n"
     ]
    }
   ],
   "source": [
    "tagihan = [50000, 75000, -150000, 125000, 300000, -50000, 200000]\n",
    "i = 0\n",
    "jumlah_tagihan = len(tagihan)\n",
    "total_tagihan = 0\n",
    "while i < jumlah_tagihan:\n",
    "    # jika terdapat tagihan ke-i yang bernilai minus (di bawah nol),\n",
    "    # abaikan tagihan ke-i dan lanjutkan ke tagihan berikutnya\n",
    "    if tagihan[i] < 0:\n",
    "        i += 1\n",
    "        continue\n",
    "    total_tagihan += tagihan[i]\n",
    "    i += 1\n",
    "print(total_tagihan)"
   ]
  },
  {
   "cell_type": "markdown",
   "metadata": {
    "colab_type": "text",
    "id": "Y_0Yx7YoWR_W"
   },
   "source": [
    "Python for loops – Part 1"
   ]
  },
  {
   "cell_type": "code",
   "execution_count": null,
   "metadata": {
    "colab": {
     "base_uri": "https://localhost:8080/",
     "height": 34
    },
    "colab_type": "code",
    "executionInfo": {
     "elapsed": 808,
     "status": "ok",
     "timestamp": 1595149989900,
     "user": {
      "displayName": "Sermon Paskah Zagoto",
      "photoUrl": "https://lh3.googleusercontent.com/a-/AOh14GiVlpSEE7CTptyyLOF0HBAyiJig8SaCaXCH-pm1kw=s64",
      "userId": "07646999100105069157"
     },
     "user_tz": -420
    },
    "id": "bszKS1_5WSMX",
    "outputId": "41129431-16af-41bf-8f2e-9506bc9b4da5"
   },
   "outputs": [
    {
     "name": "stdout",
     "output_type": "stream",
     "text": [
      "550000\n"
     ]
    }
   ],
   "source": [
    "list_tagihan = [50000, 75000, -150000, 125000, 300000, -50000, 200000]\n",
    "total_tagihan = 0\n",
    "for tagihan in list_tagihan: # untuk setiap tagihan dalam list_tagihan\n",
    "    total_tagihan += tagihan # tambahkan tagihan ke total_tagihan\n",
    "print(total_tagihan)"
   ]
  },
  {
   "cell_type": "markdown",
   "metadata": {
    "colab_type": "text",
    "id": "y1jPRBO6WVor"
   },
   "source": [
    "Python for loops – Part 2"
   ]
  },
  {
   "cell_type": "code",
   "execution_count": null,
   "metadata": {
    "colab": {
     "base_uri": "https://localhost:8080/",
     "height": 51
    },
    "colab_type": "code",
    "executionInfo": {
     "elapsed": 1005,
     "status": "ok",
     "timestamp": 1595150005421,
     "user": {
      "displayName": "Sermon Paskah Zagoto",
      "photoUrl": "https://lh3.googleusercontent.com/a-/AOh14GiVlpSEE7CTptyyLOF0HBAyiJig8SaCaXCH-pm1kw=s64",
      "userId": "07646999100105069157"
     },
     "user_tz": -420
    },
    "id": "6KIhfuJlWV7x",
    "outputId": "6a1a8800-50f3-47c7-b9ef-80ebe2bc6830"
   },
   "outputs": [
    {
     "name": "stdout",
     "output_type": "stream",
     "text": [
      "terdapat angka minus dalam tagihan, perhitungan dihentikan!\n",
      "125000\n"
     ]
    }
   ],
   "source": [
    "list_tagihan = [50000, 75000, -150000, 125000, 300000, -50000, 200000]\n",
    "total_tagihan = 0\n",
    "for tagihan in list_tagihan:\n",
    "    if tagihan < 0:\n",
    "        print(\"terdapat angka minus dalam tagihan, perhitungan dihentikan!\")\n",
    "        break\n",
    "    total_tagihan += tagihan\n",
    "print(total_tagihan)"
   ]
  },
  {
   "cell_type": "markdown",
   "metadata": {
    "colab_type": "text",
    "id": "dIzO8TxBWZnm"
   },
   "source": [
    "Python for loops – Part 3"
   ]
  },
  {
   "cell_type": "code",
   "execution_count": null,
   "metadata": {
    "colab": {
     "base_uri": "https://localhost:8080/",
     "height": 170
    },
    "colab_type": "code",
    "executionInfo": {
     "elapsed": 834,
     "status": "ok",
     "timestamp": 1595150021066,
     "user": {
      "displayName": "Sermon Paskah Zagoto",
      "photoUrl": "https://lh3.googleusercontent.com/a-/AOh14GiVlpSEE7CTptyyLOF0HBAyiJig8SaCaXCH-pm1kw=s64",
      "userId": "07646999100105069157"
     },
     "user_tz": -420
    },
    "id": "DtqA3ah9WZ0H",
    "outputId": "e446109c-1ca4-45b1-8578-18991428bfa6"
   },
   "outputs": [
    {
     "name": "stdout",
     "output_type": "stream",
     "text": [
      "Apel Malang\n",
      "Duku Malang\n",
      "Jeruk Malang\n",
      "Apel Palembang\n",
      "Duku Palembang\n",
      "Jeruk Palembang\n",
      "Apel Medan\n",
      "Duku Medan\n",
      "Jeruk Medan\n"
     ]
    }
   ],
   "source": [
    "list_daerah = ['Malang', 'Palembang', 'Medan']\n",
    "list_buah = ['Apel', 'Duku', 'Jeruk']\n",
    "for nama_daerah in list_daerah:\n",
    "    for nama_buah in list_buah:\n",
    "        print(nama_buah+\" \"+nama_daerah)"
   ]
  },
  {
   "cell_type": "markdown",
   "metadata": {
    "colab_type": "text",
    "id": "69spzHHqWdGi"
   },
   "source": [
    "Tugas Praktek"
   ]
  },
  {
   "cell_type": "code",
   "execution_count": null,
   "metadata": {
    "colab": {
     "base_uri": "https://localhost:8080/",
     "height": 51
    },
    "colab_type": "code",
    "executionInfo": {
     "elapsed": 844,
     "status": "ok",
     "timestamp": 1595150034916,
     "user": {
      "displayName": "Sermon Paskah Zagoto",
      "photoUrl": "https://lh3.googleusercontent.com/a-/AOh14GiVlpSEE7CTptyyLOF0HBAyiJig8SaCaXCH-pm1kw=s64",
      "userId": "07646999100105069157"
     },
     "user_tz": -420
    },
    "id": "7KtpqFl2WdV4",
    "outputId": "a065c7d2-1f8e-488b-8bc6-5b9f69e4d9a2"
   },
   "outputs": [
    {
     "name": "stdout",
     "output_type": "stream",
     "text": [
      "12500000\n",
      "65000000\n"
     ]
    }
   ],
   "source": [
    "list_cash_flow = [\n",
    "2500000, 5000000, -1000000, -2500000, 5000000, 10000000,\n",
    "-5000000, 7500000, 10000000, -1500000, 25000000, -2500000\n",
    "]\n",
    "total_pengeluaran, total_pemasukan = 0, 0\n",
    "for dana in list_cash_flow:\n",
    "    if dana > 0:\n",
    "        total_pemasukan += dana\n",
    "    else:\n",
    "        total_pengeluaran += dana\n",
    "total_pengeluaran *= -1\n",
    "print(total_pengeluaran) \n",
    "print(total_pemasukan)"
   ]
  },
  {
   "cell_type": "markdown",
   "metadata": {
    "colab_type": "text",
    "id": "FYYE57woWh9_"
   },
   "source": [
    "### **Mini Quiz**"
   ]
  },
  {
   "cell_type": "code",
   "execution_count": null,
   "metadata": {
    "colab": {
     "base_uri": "https://localhost:8080/",
     "height": 34
    },
    "colab_type": "code",
    "executionInfo": {
     "elapsed": 850,
     "status": "ok",
     "timestamp": 1595150061380,
     "user": {
      "displayName": "Sermon Paskah Zagoto",
      "photoUrl": "https://lh3.googleusercontent.com/a-/AOh14GiVlpSEE7CTptyyLOF0HBAyiJig8SaCaXCH-pm1kw=s64",
      "userId": "07646999100105069157"
     },
     "user_tz": -420
    },
    "id": "qawnM3tTWjPN",
    "outputId": "f6823c96-6599-4d55-e514-50a09eace7b0"
   },
   "outputs": [
    {
     "name": "stdout",
     "output_type": "stream",
     "text": [
      "163500000\n"
     ]
    }
   ],
   "source": [
    "# Data\n",
    "uang_jalan = 1500000\n",
    "jumlah_hari = 31\n",
    "list_plat_nomor = [8993, 2198, 2501, 2735, 3772, 4837, 9152]\n",
    "# Pengecekan kendaraan dengan nomor pelat ganjil atau genap \n",
    "# Deklarasikan kendaraan_genap dan kendaraan_ganjil = 0\n",
    "kendaraan_genap = 0\n",
    "kendaraan_ganjil = 0\n",
    "for plat_nomor in list_plat_nomor:\n",
    "    if plat_nomor %2 == 0:\n",
    "        kendaraan_genap += 1 \n",
    "    else:\n",
    "        kendaraan_ganjil += 1\n",
    "# Total pengeluaran untuk kendaraan dengan nomor pelat ganjil \n",
    "# dan genap dalam 1 bulan\n",
    "i = 1\n",
    "total_pengeluaran = 0\n",
    "while i <= jumlah_hari:\n",
    "    if i % 2 == 0:\n",
    "        total_pengeluaran += (kendaraan_genap * uang_jalan) \n",
    "    else:\n",
    "        total_pengeluaran += (kendaraan_ganjil * uang_jalan) \n",
    "    i += 1\n",
    "# Cetak total pengeluaran\n",
    "print(total_pengeluaran)"
   ]
  },
  {
   "cell_type": "markdown",
   "metadata": {
    "colab_type": "text",
    "id": "tkjkyJP6E64p"
   },
   "source": [
    "Kesimpulan"
   ]
  },
  {
   "cell_type": "markdown",
   "metadata": {
    "colab_type": "text",
    "id": "2QccCzdtE9nh"
   },
   "source": [
    "1. Alasan Python secara luas digunakan dalam komputasi saintifik, web, ranah data (data domain).\n",
    "2. Konstruksi dari struktur bahasa pemrograman Python.\n",
    "3. Teknik mempraktekkan penggunaan tipe data pada Python.\n",
    "4. Teknik mempraktekkan penggunaan jenis-jenis operator pada Python.\n",
    "5. Teknik mempraktekkan penggunaan pengkondisian untuk pengambilan keputusan dan perulangan pada Python.\n",
    "6. Program Python untuk penyelesaian kasus bisnis sederhana."
   ]
  }
 ],
 "metadata": {
  "colab": {
   "authorship_tag": "ABX9TyPpgEHvZnyb/DpUdThjjBLT",
   "collapsed_sections": [],
   "name": "Python for Data Professional Beginner - Part 1.ipynb",
   "provenance": []
  },
  "kernelspec": {
   "display_name": "Python 3",
   "language": "python",
   "name": "python3"
  },
  "language_info": {
   "codemirror_mode": {
    "name": "ipython",
    "version": 3
   },
   "file_extension": ".py",
   "mimetype": "text/x-python",
   "name": "python",
   "nbconvert_exporter": "python",
   "pygments_lexer": "ipython3",
   "version": "3.7.7"
  }
 },
 "nbformat": 4,
 "nbformat_minor": 1
}
